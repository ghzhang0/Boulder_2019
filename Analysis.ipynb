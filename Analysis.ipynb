{
 "cells": [
  {
   "cell_type": "code",
   "execution_count": 1,
   "metadata": {
    "collapsed": true
   },
   "outputs": [],
   "source": [
    "import numpy as np\n",
    "import torch\n",
    "import networkx as nx\n",
    "import difflib\n",
    "import matplotlib.pyplot as plt"
   ]
  },
  {
   "cell_type": "markdown",
   "metadata": {},
   "source": [
    "# Import trained weights and biases"
   ]
  },
  {
   "cell_type": "code",
   "execution_count": 36,
   "metadata": {},
   "outputs": [],
   "source": [
    "# Getting data from our database and saved models\n",
    "w1 = torch.tensor(np.loadtxt(r\"weights1_100_100.0.dat\".format(N,R)), dtype=torch.float32)\n",
    "w2 = torch.tensor(np.loadtxt(r\"weights2_100_100.0.dat\".format(N,R)), dtype=torch.float32)\n",
    "b1 = torch.tensor(np.loadtxt(r\"bias1_100_100.0.dat\".format(N,R)), dtype=torch.float32)\n",
    "b2 = torch.tensor(np.loadtxt(r\"bias2_100_100.0.dat\".format(N,R)), dtype=torch.float32)\n",
    "\n",
    "it = 0 # set index of beh\n",
    "x = torch.tensor(np.genfromtxt(r\"k_5_behaviors/x_{}.csv\".format(it), delimiter=',')).float()\n",
    "y = torch.tensor(np.genfromtxt(r\"k_5_behaviors/y_{}.csv\".format(it), delimiter=',')).float()\n",
    "\n",
    "# Activation function\n",
    "def actfn(x):\n",
    "    y = x.sigmoid()\n",
    "    return y\n",
    "\n",
    "# Using the saved weights to generate predict outputs\n",
    "y_pred = actfn(actfn(x.mm(w1)+b1).mm(w2)+b2)\n",
    "y_pred = y_pred.detach().numpy()\n",
    "y_orig = y.detach().numpy()"
   ]
  },
  {
   "cell_type": "code",
   "execution_count": null,
   "metadata": {},
   "outputs": [],
   "source": [
    "# Compare trained result (y_pred) and original signal (y_orig)\n",
    "beh_ind = 0 # behavior index\n",
    "plt.figure()\n",
    "plt.plot(y_orig[beh_ind], '.')\n",
    "plt.plot(y_pred[beh_ind], 'x')\n"
   ]
  }
 ],
 "metadata": {
  "kernelspec": {
   "display_name": "Python 3",
   "language": "python",
   "name": "python3"
  },
  "language_info": {
   "codemirror_mode": {
    "name": "ipython",
    "version": 3
   },
   "file_extension": ".py",
   "mimetype": "text/x-python",
   "name": "python",
   "nbconvert_exporter": "python",
   "pygments_lexer": "ipython3",
   "version": "3.6.7"
  }
 },
 "nbformat": 4,
 "nbformat_minor": 2
}
