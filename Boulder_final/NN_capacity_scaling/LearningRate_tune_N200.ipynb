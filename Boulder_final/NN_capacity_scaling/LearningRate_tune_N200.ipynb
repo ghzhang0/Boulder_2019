{
 "cells": [
  {
   "cell_type": "code",
   "execution_count": 2,
   "metadata": {},
   "outputs": [],
   "source": [
    "# Code in file autograd/two_layer_net_autograd.py\n",
    "import torch\n",
    "\n",
    "device = torch.device('cpu')\n",
    "# device = torch.device('cuda') # Uncomment this to run on GPU"
   ]
  },
  {
   "cell_type": "code",
   "execution_count": 3,
   "metadata": {},
   "outputs": [],
   "source": [
    "import numpy as np"
   ]
  },
  {
   "cell_type": "code",
   "execution_count": 4,
   "metadata": {},
   "outputs": [],
   "source": [
    "R_exps = [1.0, 0.9, 0.8, 0.7, 0.6, 0.5, 0.4, 0.3, 0.2, 0.1]\n",
    "N = 200 # input dimension and number of training behaviors\n",
    "M = N # output dimension"
   ]
  },
  {
   "cell_type": "code",
   "execution_count": 5,
   "metadata": {},
   "outputs": [],
   "source": [
    "# Define nonlinear activation function\n",
    "def f(x): # nonlinear conversion function to binary\n",
    "    return x.sigmoid()#tanh().add(1).div(2)"
   ]
  },
  {
   "cell_type": "code",
   "execution_count": 6,
   "metadata": {},
   "outputs": [],
   "source": [
    "# Create input data\n",
    "x = torch.tensor(np.genfromtxt(\"x_{}.csv\".format(N), delimiter=','), device=device).float()\n",
    "y = torch.tensor(np.genfromtxt(\"y_{}.csv\".format(N), delimiter=','), device=device).float()"
   ]
  },
  {
   "cell_type": "markdown",
   "metadata": {},
   "source": [
    "Find optimal learning rates for each R"
   ]
  },
  {
   "cell_type": "code",
   "execution_count": 7,
   "metadata": {},
   "outputs": [],
   "source": [
    "# determine lrs_N200 = [2500, 1000, 650, 100, 100, 100, 100, 100, 100, 100]"
   ]
  },
  {
   "cell_type": "code",
   "execution_count": 70,
   "metadata": {},
   "outputs": [],
   "source": [
    "loss_all_lr = []\n",
    "for learning_rate in [2500]: # try different learning rates for different R and look at behavior of loss\n",
    "    R = int(N**1) # \n",
    "    # Create random Tensors for weights; setting requires_grad=True means that we\n",
    "    # want to compute gradients for these Tensors during the backward pass.\n",
    "    w1 = torch.randn(N, R, device=device, requires_grad=True).float()\n",
    "    w2 = torch.randn(R, M, device=device, requires_grad=True).float()\n",
    "\n",
    "    ## initialize tensor variables for bias terms \n",
    "    b1 = torch.randn(1, R, device=device, requires_grad=True).float()# bias for hidden layer\n",
    "    b2 = torch.randn(1, M, device=device, requires_grad=True).float() # bias for output layer\n",
    "\n",
    "    t = 0\n",
    "    loss = 1000\n",
    "    loss_all = []\n",
    "    while t < 40000:\n",
    "      # Forward pass: compute predicted y using operations on Tensors. Since w1 and\n",
    "      # w2 have requires_grad=True, operations involving these Tensors will cause\n",
    "      # PyTorch to build a computational graph, allowing automatic computation of\n",
    "      # gradients. Since we are no longer implementing the backward pass by hand we\n",
    "      # don't need to keep references to intermediate values.\n",
    "      y_pred = f(f(x.mm(w1).add(b1)).mm(w2).add(b2))\n",
    "\n",
    "      # Compute and print loss. Loss is a Tensor of shape (), and loss.item()\n",
    "      # is a Python number giving its value.\n",
    "      loss = (y_pred - y).pow(2).mean()\n",
    "      loss_all.append(loss.item())\n",
    "      # print(t, loss.item())\n",
    "\n",
    "      # Use autograd to compute the backward pass. This call will compute the\n",
    "      # gradient of loss with respect to all Tensors with requires_grad=True.\n",
    "      # After this call w1.grad and w2.grad will be Tensors holding the gradient\n",
    "      # of the loss with respect to w1 and w2 respectively.\n",
    "      loss.backward()\n",
    "\n",
    "      # Update weights using gradient descent. For this step we just want to mutate\n",
    "      # the values of w1 and w2 in-place; we don't want to build up a computational\n",
    "      # graph for the update steps, so we use the torch.no_grad() context manager\n",
    "      # to prevent PyTorch from building a computational graph for the updates\n",
    "      with torch.no_grad():\n",
    "        w1 -= learning_rate * w1.grad\n",
    "        w2 -= learning_rate * w2.grad\n",
    "        b1 -= learning_rate * b1.grad\n",
    "        b2 -= learning_rate * b2.grad\n",
    "\n",
    "        # Manually zero the gradients after running the backward pass\n",
    "        w1.grad.zero_()\n",
    "        w2.grad.zero_()\n",
    "        b1.grad.zero_()\n",
    "        b2.grad.zero_()\n",
    "        t = t + 1\n",
    "    loss_all_lr.append(loss_all)"
   ]
  },
  {
   "cell_type": "code",
   "execution_count": 71,
   "metadata": {},
   "outputs": [
    {
     "name": "stderr",
     "output_type": "stream",
     "text": [
      "No handles with labels found to put in legend.\n"
     ]
    },
    {
     "data": {
      "image/png": "[encoded data removed]",
      "text/plain": [
       "<Figure size 720x504 with 1 Axes>"
      ]
     },
     "metadata": {},
     "output_type": "display_data"
    }
   ],
   "source": [
    "import matplotlib\n",
    "from matplotlib import pyplot as plt\n",
    "plt.figure(figsize=(10,7))\n",
    "for i in range(len(loss_all_lr)):\n",
    "    plt.plot(np.log(np.array(loss_all_lr[i])))\n",
    "plt.legend()\n",
    "plt.xlabel('Iteration')\n",
    "plt.ylabel('Loss')\n",
    "#plt.ylim([0, 0.5])\n",
    "plt.show()"
   ]
  },
  {
   "cell_type": "code",
   "execution_count": 75,
   "metadata": {},
   "outputs": [
    {
     "data": {
      "text/plain": [
       "0.925"
      ]
     },
     "execution_count": 75,
     "metadata": {},
     "output_type": "execute_result"
    }
   ],
   "source": [
    "185/200"
   ]
  },
  {
   "cell_type": "code",
   "execution_count": 76,
   "metadata": {},
   "outputs": [
    {
     "data": {
      "text/plain": [
       "0.94"
      ]
     },
     "execution_count": 76,
     "metadata": {},
     "output_type": "execute_result"
    }
   ],
   "source": [
    "94/100"
   ]
  },
  {
   "cell_type": "code",
   "execution_count": 74,
   "metadata": {
    "collapsed": true
   },
   "outputs": [
    {
     "ename": "AttributeError",
     "evalue": "'numpy.ndarray' object has no attribute 'detach'",
     "output_type": "error",
     "traceback": [
      "\u001b[0;31m---------------------------------------------------------------------------\u001b[0m",
      "\u001b[0;31mAttributeError\u001b[0m                            Traceback (most recent call last)",
      "\u001b[0;32m<ipython-input-74-23c5c0e6a876>\u001b[0m in \u001b[0;36m<module>\u001b[0;34m()\u001b[0m\n\u001b[1;32m      1\u001b[0m \u001b[0;31m# Computing binary outputs using different thresholds\u001b[0m\u001b[0;34m\u001b[0m\u001b[0;34m\u001b[0m\u001b[0;34m\u001b[0m\u001b[0m\n\u001b[1;32m      2\u001b[0m \u001b[0;32mimport\u001b[0m \u001b[0mdifflib\u001b[0m\u001b[0;34m\u001b[0m\u001b[0;34m\u001b[0m\u001b[0m\n\u001b[0;32m----> 3\u001b[0;31m \u001b[0my_pred\u001b[0m \u001b[0;34m=\u001b[0m \u001b[0my_pred\u001b[0m\u001b[0;34m.\u001b[0m\u001b[0mdetach\u001b[0m\u001b[0;34m(\u001b[0m\u001b[0;34m)\u001b[0m\u001b[0;34m.\u001b[0m\u001b[0mnumpy\u001b[0m\u001b[0;34m(\u001b[0m\u001b[0;34m)\u001b[0m\u001b[0;34m\u001b[0m\u001b[0;34m\u001b[0m\u001b[0m\n\u001b[0m\u001b[1;32m      4\u001b[0m \u001b[0mthreshold\u001b[0m \u001b[0;34m=\u001b[0m \u001b[0;36m0.5\u001b[0m\u001b[0;34m\u001b[0m\u001b[0;34m\u001b[0m\u001b[0m\n\u001b[1;32m      5\u001b[0m \u001b[0mpercent_seqmatch\u001b[0m \u001b[0;34m=\u001b[0m \u001b[0;34m[\u001b[0m\u001b[0;36m0.99\u001b[0m\u001b[0;34m]\u001b[0m\u001b[0;34m\u001b[0m\u001b[0;34m\u001b[0m\u001b[0m\n",
      "\u001b[0;31mAttributeError\u001b[0m: 'numpy.ndarray' object has no attribute 'detach'"
     ]
    }
   ],
   "source": [
    "# Computing binary outputs using different thresholds\n",
    "import difflib\n",
    "y_pred = y_pred.detach().numpy()\n",
    "threshold = 0.5\n",
    "percent_seqmatch = [0.99]\n",
    "behaviours_learnt = []\n",
    "for per in percent_seqmatch:\n",
    "    behaviour = 0\n",
    "\n",
    "    y_pred_binary = np.abs(np.round(y_pred+0.5-threshold))\n",
    "\n",
    "    for j in range(len(y_pred)):\n",
    "        s = difflib.SequenceMatcher(None, y[j],y_pred_binary[j])\n",
    "        if s.ratio() > per:\n",
    "            behaviour += 1\n",
    "    behaviours_learnt.append(behaviour/N)"
   ]
  },
  {
   "cell_type": "code",
   "execution_count": 73,
   "metadata": {},
   "outputs": [
    {
     "data": {
      "text/plain": [
       "185"
      ]
     },
     "execution_count": 73,
     "metadata": {},
     "output_type": "execute_result"
    }
   ],
   "source": [
    "behaviour"
   ]
  },
  {
   "cell_type": "markdown",
   "metadata": {},
   "source": [
    "After finding the optimal learning rates, run 10 trials (with different random weights initializations) for each R"
   ]
  },
  {
   "cell_type": "code",
   "execution_count": 53,
   "metadata": {},
   "outputs": [],
   "source": [
    "lrs_N200 = [2500, 1000, 650, 100, 100, 100, 100, 100, 100, 100]"
   ]
  },
  {
   "cell_type": "code",
   "execution_count": null,
   "metadata": {},
   "outputs": [
    {
     "name": "stdout",
     "output_type": "stream",
     "text": [
      "1.0\n",
      "0\n",
      "1\n",
      "2\n",
      "3\n",
      "4\n",
      "5\n",
      "6\n",
      "7\n",
      "8\n",
      "9\n",
      "0.9\n",
      "0\n",
      "1\n",
      "2\n",
      "3\n",
      "4\n",
      "5\n",
      "6\n",
      "7\n",
      "8\n",
      "9\n",
      "0.8\n",
      "0\n",
      "1\n",
      "2\n",
      "3\n",
      "4\n",
      "5\n",
      "6\n",
      "7\n",
      "8\n",
      "9\n",
      "0.7\n",
      "0\n",
      "1\n",
      "2\n",
      "3\n",
      "4\n",
      "5\n",
      "6\n",
      "7\n",
      "8\n",
      "9\n",
      "0.6\n",
      "0\n",
      "1\n",
      "2\n",
      "3\n",
      "4\n",
      "5\n",
      "6\n",
      "7\n",
      "8\n",
      "9\n",
      "0.5\n",
      "0\n",
      "1\n",
      "2\n",
      "3\n",
      "4\n",
      "5\n",
      "6\n",
      "7\n",
      "8\n",
      "9\n",
      "0.4\n",
      "0\n",
      "1\n",
      "2\n",
      "3\n",
      "4\n",
      "5\n",
      "6\n",
      "7\n",
      "8\n",
      "9\n",
      "0.3\n",
      "0\n"
     ]
    }
   ],
   "source": [
    "loss_all_R_trials = []\n",
    "y_pred_all_R_trials = []\n",
    "for f_ind, ff in enumerate(R_exps[:]):\n",
    "    print(ff)\n",
    "    R = int(N**ff)\n",
    "    learning_rate = lrs_N200[f_ind]\n",
    "    loss_all_trials = []\n",
    "    y_pred_all_trials = []\n",
    "    for trial in range(10):\n",
    "        print(trial)\n",
    "        # Create random Tensors for weights; setting requires_grad=True means that we\n",
    "        # want to compute gradients for these Tensors during the backward pass.\n",
    "        w1 = torch.randn(N, R, device=device, requires_grad=True).float()\n",
    "        w2 = torch.randn(R, M, device=device, requires_grad=True).float()\n",
    "\n",
    "        ## initialize tensor variables for bias terms \n",
    "        b1 = torch.randn(1, R, device=device, requires_grad=True).float()# bias for hidden layer\n",
    "        b2 = torch.randn(1, M, device=device, requires_grad=True).float() # bias for output layer\n",
    "\n",
    "        t = 0\n",
    "        loss = 1000\n",
    "        loss_all = []\n",
    "        while t < 40000:\n",
    "          # Forward pass: compute predicted y using operations on Tensors. Since w1 and\n",
    "          # w2 have requires_grad=True, operations involving these Tensors will cause\n",
    "          # PyTorch to build a computational graph, allowing automatic computation of\n",
    "          # gradients. Since we are no longer implementing the backward pass by hand we\n",
    "          # don't need to keep references to intermediate values.\n",
    "          y_pred = f(f(x.mm(w1).add(b1)).mm(w2).add(b2))\n",
    "\n",
    "          # Compute and print loss. Loss is a Tensor of shape (), and loss.item()\n",
    "          # is a Python number giving its value.\n",
    "          loss = (y_pred - y).pow(2).mean()\n",
    "          loss_all.append(loss.item())\n",
    "          # print(t, loss.item())\n",
    "\n",
    "          # Use autograd to compute the backward pass. This call will compute the\n",
    "          # gradient of loss with respect to all Tensors with requires_grad=True.\n",
    "          # After this call w1.grad and w2.grad will be Tensors holding the gradient\n",
    "          # of the loss with respect to w1 and w2 respectively.\n",
    "          loss.backward()\n",
    "\n",
    "          # Update weights using gradient descent. For this step we just want to mutate\n",
    "          # the values of w1 and w2 in-place; we don't want to build up a computational\n",
    "          # graph for the update steps, so we use the torch.no_grad() context manager\n",
    "          # to prevent PyTorch from building a computational graph for the updates\n",
    "          with torch.no_grad():\n",
    "            w1 -= learning_rate * w1.grad\n",
    "            w2 -= learning_rate * w2.grad\n",
    "            b1 -= learning_rate * b1.grad\n",
    "            b2 -= learning_rate * b2.grad\n",
    "\n",
    "            # Manually zero the gradients after running the backward pass\n",
    "            w1.grad.zero_()\n",
    "            w2.grad.zero_()\n",
    "            b1.grad.zero_()\n",
    "            b2.grad.zero_()\n",
    "            t = t + 1\n",
    "        loss_all_trials.append(loss.detach().numpy())\n",
    "        y_pred_all_trials.append(y_pred.detach().numpy())\n",
    "    y_pred_all_R_trials.append(y_pred_all_trials)\n",
    "    loss_all_R_trials.append(loss_all_trials)"
   ]
  },
  {
   "cell_type": "code",
   "execution_count": 185,
   "metadata": {
    "collapsed": true
   },
   "outputs": [
    {
     "name": "stdout",
     "output_type": "stream",
     "text": [
      "0\n",
      "1\n",
      "2\n",
      "3\n",
      "4\n",
      "5\n",
      "6\n",
      "7\n",
      "8\n",
      "9\n"
     ]
    }
   ],
   "source": [
    "# Computing binary outputs using different thresholds\n",
    "import difflib\n",
    "behavior_all_R_trials = []\n",
    "for R_ind, y_pred_all_trials in enumerate(y_pred_all_R_trials):\n",
    "    print(R_ind)\n",
    "    behaviour_all_trials = []\n",
    "    for y_pred in y_pred_all_trials:\n",
    "        threshold = 0.5\n",
    "        percent_seqmatch = [0.99]\n",
    "        behaviours_learnt = []\n",
    "        for per in percent_seqmatch:\n",
    "            behaviour = 0\n",
    "\n",
    "            y_pred_binary = np.abs(np.round(y_pred+0.5-threshold))\n",
    "\n",
    "            for j in range(len(y_pred)):\n",
    "                s = difflib.SequenceMatcher(None, y[j],y_pred_binary[j])\n",
    "                if s.ratio() > per:\n",
    "                    behaviour += 1\n",
    "            behaviours_learnt.append(behaviour/N)\n",
    "        behaviour_all_trials.append(behaviour)\n",
    "    behavior_all_R_trials.append(behaviour_all_trials)"
   ]
  }
 ],
 "metadata": {
  "kernelspec": {
   "display_name": "Python 3",
   "language": "python",
   "name": "python3"
  },
  "language_info": {
   "codemirror_mode": {
    "name": "ipython",
    "version": 3
   },
   "file_extension": ".py",
   "mimetype": "text/x-python",
   "name": "python",
   "nbconvert_exporter": "python",
   "pygments_lexer": "ipython3",
   "version": "3.6.7"
  }
 },
 "nbformat": 4,
 "nbformat_minor": 2
}
