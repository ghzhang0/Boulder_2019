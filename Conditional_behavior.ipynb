{
 "cells": [
  {
   "cell_type": "markdown",
   "metadata": {},
   "source": [
    "# Code to look at predictions"
   ]
  },
  {
   "cell_type": "code",
   "execution_count": 1,
   "metadata": {},
   "outputs": [],
   "source": [
    "import numpy as np\n",
    "import torch\n",
    "import matplotlib\n",
    "import seaborn as sns; sns.set()\n",
    "from matplotlib import colors\n",
    "from matplotlib import pyplot as plt\n",
    "device = \"cpu\"\n",
    "%matplotlib notebook\n",
    "\n",
    "# Define nonlinear activation function\n",
    "def f(x): # nonlinear conversion function to binary\n",
    "    return x.sigmoid()#tanh().add(1).div(2)"
   ]
  },
  {
   "cell_type": "code",
   "execution_count": 2,
   "metadata": {},
   "outputs": [],
   "source": [
    "# lists of parameters\n",
    "#Rs = [0.0, 0.25, 0.3, 0.4, 0.5, 0.6, 0.7, 0.75, 0.8, 0.85, 0.9, 1.0]\n",
    "Rs = [0.0, 0.25, 0.5, 0.6, 0.7, 0.75, 0.8, 0.85, 0.9, 1.0]\n",
    "Ns = [50, 100, 200, 300]"
   ]
  },
  {
   "cell_type": "markdown",
   "metadata": {},
   "source": [
    "## Load NN and make predictions"
   ]
  },
  {
   "cell_type": "code",
   "execution_count": 3,
   "metadata": {},
   "outputs": [],
   "source": [
    "N_ind = 0\n",
    "N = Ns[N_ind]\n",
    "\n",
    "errs_all_R = []\n",
    "y_bin=[]\n",
    "\n",
    "for R in Rs[1:]:\n",
    "\n",
    "    x = torch.tensor(np.genfromtxt(\"x_{}.csv\".format(N), delimiter=','), device=device).float()\n",
    "    y = torch.tensor(np.genfromtxt(\"y_{}.csv\".format(N), delimiter=','), device=device).float()\n",
    "#_22july\n",
    "    w1 = torch.tensor(np.loadtxt(\"Data_22july/weights1_{}_{}.dat\".format(N, R)), dtype=torch.float32, device=device)\n",
    "    w2 = torch.tensor(np.loadtxt(\"Data_22july/weights2_{}_{}.dat\".format(N, R)), dtype=torch.float32, device=device)\n",
    "    b1 = torch.tensor(np.loadtxt(\"Data_22july/bias1_{}_{}.dat\".format(N, R)), dtype=torch.float32, device=device)\n",
    "    b2 = torch.tensor(np.loadtxt(\"Data_22july/bias2_{}_{}.dat\".format(N, R)), dtype=torch.float32, device=device)\n",
    "\n",
    "    y_pred = f(f(x.mm(w1).add(b1)).mm(w2).add(b2))\n",
    "    y_pred = y_pred.detach().numpy()\n",
    "    y_org = y.detach().numpy()\n",
    "    y_bin.append(np.round(y_pred))\n",
    "    "
   ]
  },
  {
   "cell_type": "markdown",
   "metadata": {},
   "source": [
    "## Visualize data as a grid"
   ]
  },
  {
   "cell_type": "code",
   "execution_count": 20,
   "metadata": {},
   "outputs": [
    {
     "data": {
      "image/png": "[encoded data removed]",
      "text/plain": [
       "<Figure size 432x288 with 1 Axes>"
      ]
     },
     "metadata": {
      "needs_background": "light"
     },
     "output_type": "display_data"
    }
   ],
   "source": [
    "# specify Rs id to plot\n",
    "id_to_check=8\n",
    "\n",
    "# code to plot a colored grid highlighting errors:\n",
    "data = 2*y_org+y_bin[id_to_check]\n",
    "# create discrete colormap\n",
    "cmap = colors.ListedColormap(['grey', 'yellow', \"red\", \"blue\"]) \n",
    "# white  - 0 predicted correctly\n",
    "# yellow - 1 predicted instead of 0\n",
    "# red    - 0 predicted instead of 1\n",
    "# blue   - 1 predicted correctly\n",
    "\n",
    "bounds = [0, 0.5, 1, 1.5, 2, 2.5, 3]\n",
    "norm = colors.BoundaryNorm(bounds, cmap.N)\n",
    "\n",
    "fig, ax = plt.subplots()\n",
    "ax.imshow(data, cmap=cmap, norm=norm)\n",
    "ax.grid(False) # no gridlines\n",
    "plt.show()\n",
    "\n",
    "# save ind for the errors of a null model\n",
    "r_ids_n, c_ids_n = np.where((data == 1)|(data==2))\n",
    "\n",
    "# save fugure\n",
    "#fig.savefig(\"graphs/pred_50x50x50_Rs_{}.pdf\".format(Rs[id_to_check+1]))\n",
    "#sns.clustermap(data, cmap=cmap) # another way to do it?"
   ]
  },
  {
   "cell_type": "markdown",
   "metadata": {},
   "source": [
    "## Modify NN to model conditional behavior"
   ]
  },
  {
   "cell_type": "code",
   "execution_count": 16,
   "metadata": {},
   "outputs": [],
   "source": [
    "# specify hidden layer neuron to activate\n",
    "id_activate=8\n",
    "\n",
    "# add another column of 111...111 to the tensor of inputs\n",
    "x_new=torch.cat((x,torch.ones(N,1)), dim=1)\n",
    "\n",
    "# add another row of weights for this new input neuron\n",
    "add=torch.zeros(1, w1.size()[1])\n",
    "add[:,id_activate]=1000000\n",
    "w1_new=torch.cat((w1,add), dim=0)\n",
    "\n",
    "# calculate new binary predictions\n",
    "y_pred_new = f(f(x_new.mm(w1_new).add(b1)).mm(w2).add(b2))\n",
    "y_pred_new = y_pred_new.detach().numpy()\n",
    "binary_y_new = np.round(y_pred_new)"
   ]
  },
  {
   "cell_type": "markdown",
   "metadata": {},
   "source": [
    "## Plot predicted behavior over the actual one "
   ]
  },
  {
   "cell_type": "code",
   "execution_count": 31,
   "metadata": {},
   "outputs": [
    {
     "data": {
      "image/png": "[encoded data removed]",
      "text/plain": [
       "<Figure size 432x288 with 1 Axes>"
      ]
     },
     "metadata": {
      "needs_background": "light"
     },
     "output_type": "display_data"
    }
   ],
   "source": [
    "# plot a colored grid highlighting \"errors\" (comparing to the model predictions) for a conditional behavior data:\n",
    "data = 2*y_bin[id_to_check]+binary_y_new\n",
    "cmap = colors.ListedColormap(['grey', 'yellow', \"red\", \"blue\"])\n",
    "bounds = [0, 0.5, 1, 1.5, 2, 2.5, 3]\n",
    "norm = colors.BoundaryNorm(bounds, cmap.N)\n",
    "\n",
    "fig, ax = plt.subplots()\n",
    "ax.imshow(data, cmap=cmap, norm=norm)\n",
    "ax.grid(False) # no gridlines\n",
    "#plt.show()\n",
    "\n",
    "# save plot\n",
    "#fig.savefig(\"graphs/CD_50x50x50_hn_{}.pdf\".format(id_activate))"
   ]
  },
  {
   "cell_type": "markdown",
   "metadata": {},
   "source": [
    "## The same results if we change biases instead of weights"
   ]
  },
  {
   "cell_type": "code",
   "execution_count": 32,
   "metadata": {},
   "outputs": [
    {
     "data": {
      "image/png": "[encoded data removed]",
      "text/plain": [
       "<Figure size 432x288 with 1 Axes>"
      ]
     },
     "metadata": {
      "needs_background": "light"
     },
     "output_type": "display_data"
    }
   ],
   "source": [
    "# shift bias to control the activation threshold\n",
    "b1_new=b1.clone()\n",
    "b1_new[id_activate]=1000000\n",
    "\n",
    "y_pred_new = f(f(x.mm(w1).add(b1_new)).mm(w2).add(b2))\n",
    "y_pred_new = y_pred_new.detach().numpy()\n",
    "binary_y_new = np.round(y_pred_new)\n",
    "\n",
    "# plot a colored grid highlighting \"errors\" for a conditional behavior data:\n",
    "data = 2*y_bin[id_to_check]+binary_y_new\n",
    "cmap = colors.ListedColormap(['grey', 'yellow', \"red\", \"blue\"])\n",
    "bounds = [0, 0.5, 1, 1.5, 2, 2.5, 3]\n",
    "norm = colors.BoundaryNorm(bounds, cmap.N)\n",
    "\n",
    "fig, ax = plt.subplots()\n",
    "ax.imshow(data, cmap=cmap, norm=norm)\n",
    "ax.grid(False) # no gridlines"
   ]
  },
  {
   "cell_type": "markdown",
   "metadata": {},
   "source": [
    "## Plots and statistics for all hidden units perturbed"
   ]
  },
  {
   "cell_type": "code",
   "execution_count": 54,
   "metadata": {},
   "outputs": [],
   "source": [
    "# plot the above for all hidden activated neurons and calc some statistics\n",
    "diss=[]\n",
    "r_idss=[]\n",
    "c_idss=[]\n",
    "beh_aff=np.zeros(N)\n",
    "mu_aff=np.zeros(N)\n",
    "\n",
    "for id_activate in range(N):\n",
    "    # specify hidden layer neuron to activate\n",
    "    b1_new=b1.clone()\n",
    "    b1_new[id_activate]=1000000\n",
    "\n",
    "    y_pred_new = f(f(x.mm(w1).add(b1_new)).mm(w2).add(b2))\n",
    "    y_pred_new = y_pred_new.detach().numpy()\n",
    "    binary_y_new = np.round(y_pred_new)\n",
    "\n",
    "    # uncomment to plot\n",
    "    '''\n",
    "    # plot a colored grid highlighting \"errors\" for a conditional behavior data:\n",
    "    data = 2*y_bin[id_to_check]+binary_y_new\n",
    "    cmap = colors.ListedColormap(['grey', 'yellow', \"red\", \"blue\"])\n",
    "    bounds = [0, 0.5, 1, 1.5, 2, 2.5, 3]\n",
    "    norm = colors.BoundaryNorm(bounds, cmap.N)\n",
    "\n",
    "    fig, ax = plt.subplots()\n",
    "    ax.imshow(data, cmap=cmap, norm=norm)\n",
    "    ax.grid(False) # no gridlines\n",
    "\n",
    "    #fig.savefig(\"graphs/CD_50x50x50_hn_{}.pdf\".format(id_activate))\n",
    "    '''\n",
    "    # save discrepancy matrix\n",
    "    dis = y_bin[id_to_check]-binary_y_new\n",
    "    diss.append(dis)\n",
    "    \n",
    "    r_ids, c_ids = np.where((dis == 1)|(dis==-1))\n",
    "    r_idss.append(r_ids) # save indices of affected motor units for each behavior\n",
    "    c_idss.append(c_ids)\n",
    "    beh_aff[id_activate]=np.unique(r_ids).size # check how many behaviors were affected\n",
    "    mu_aff[id_activate]=np.unique(c_ids).size  # check how many motor units were affected"
   ]
  },
  {
   "cell_type": "markdown",
   "metadata": {},
   "source": [
    "## Code for analysis of perturbations in hidden layer activation "
   ]
  },
  {
   "cell_type": "code",
   "execution_count": 72,
   "metadata": {},
   "outputs": [
    {
     "data": {
      "image/png": "[encoded data removed]",
      "text/plain": [
       "<Figure size 432x432 with 3 Axes>"
      ]
     },
     "metadata": {},
     "output_type": "display_data"
    }
   ],
   "source": [
    "# plot how many behaviors and motor units were affected by each hidden neuron\n",
    "\n",
    "import pandas as pd\n",
    "sns.set(style=\"white\", color_codes=True)\n",
    "df = pd.DataFrame(np.transpose(np.array([beh_aff,mu_aff])), columns=[\"Behaviors affected\", \"Motor units affected\"])\n",
    "sns.jointplot(x=\"Behaviors affected\", y=\"Motor units affected\", data=df, kind=\"reg\", \n",
    "              marginal_kws=dict(bins=10));"
   ]
  },
  {
   "cell_type": "code",
   "execution_count": 103,
   "metadata": {},
   "outputs": [
    {
     "data": {
      "text/plain": [
       "50"
      ]
     },
     "execution_count": 103,
     "metadata": {},
     "output_type": "execute_result"
    }
   ],
   "source": [
    "# calc all unique behaviors in list of affected ones - each one was affected at least once\n",
    "\n",
    "# function to get unique values from a list\n",
    "def unique(list1): \n",
    "    # intilize a null list \n",
    "    unique_list = []  \n",
    "    # traverse for all elements \n",
    "    for x in list1: \n",
    "        # check if exists in unique_list or not \n",
    "        ux=np.unique(x)\n",
    "        for j in range(ux.size):\n",
    "            if ux[j] not in unique_list: \n",
    "                unique_list.append(ux[j])\n",
    "    # print list \n",
    "    unique_list=np.sort(unique_list)\n",
    "    return(unique_list)\n",
    "        \n",
    "u=unique(r_idss)\n",
    "u.size"
   ]
  },
  {
   "cell_type": "code",
   "execution_count": 108,
   "metadata": {},
   "outputs": [
    {
     "name": "stdout",
     "output_type": "stream",
     "text": [
      "[ 7. 14.  5. 13. 17. 15.  8. 12. 10. 12.  8.  7. 16.  6.  9. 15.  8. 17.\n",
      " 10. 18. 11. 10. 15. 11. 14. 22. 17. 13.  7. 16. 16. 15. 23. 16. 15. 15.\n",
      " 19. 14. 15. 14. 11. 14. 20. 19. 10. 12. 12. 12. 19. 16.]\n"
     ]
    },
    {
     "data": {
      "text/plain": [
       "<matplotlib.axes._subplots.AxesSubplot at 0x1a1fa7b588>"
      ]
     },
     "execution_count": 108,
     "metadata": {},
     "output_type": "execute_result"
    },
    {
     "data": {
      "image/png": "[encoded data removed]",
      "text/plain": [
       "<Figure size 432x288 with 1 Axes>"
      ]
     },
     "metadata": {},
     "output_type": "display_data"
    }
   ],
   "source": [
    "# calc counts for unique behaviors affected\n",
    "\n",
    "# function to get unique values from a list\n",
    "def list_table(list1, N): \n",
    "    # intilize a null vector\n",
    "    counts = np.zeros(N)\n",
    "    # traverse for all elements \n",
    "    for x in list1: \n",
    "        for j in range(x.size):\n",
    "            counts[x[j]]+=1 \n",
    "    return(counts)\n",
    "print(list_table(r_idss, N))\n",
    "sns.distplot(list_table(r_idss, N), bins=20)"
   ]
  },
  {
   "cell_type": "code",
   "execution_count": 110,
   "metadata": {},
   "outputs": [
    {
     "name": "stdout",
     "output_type": "stream",
     "text": [
      "[31.  7. 23. 23.  8. 17. 18. 19. 10. 16.  6.  7. 26.  3. 15.  8. 10.  8.\n",
      " 18. 14.  8. 25. 14.  7. 15. 15.  6. 11. 16.  7.  4. 14. 10. 11. 12. 21.\n",
      " 12. 20.  6. 24. 16. 18. 15.  6.  2. 12. 10.  8. 22. 16.]\n"
     ]
    },
    {
     "data": {
      "text/plain": [
       "<matplotlib.axes._subplots.AxesSubplot at 0x1a201df550>"
      ]
     },
     "execution_count": 110,
     "metadata": {},
     "output_type": "execute_result"
    },
    {
     "data": {
      "image/png": "[encoded data removed]",
      "text/plain": [
       "<Figure size 432x288 with 1 Axes>"
      ]
     },
     "metadata": {},
     "output_type": "display_data"
    }
   ],
   "source": [
    "# check whether the same groupds of neurons were affected in diff beh\n",
    "print(list_table(c_idss, N))\n",
    "sns.distplot(list_table(c_idss, N), bins=20)"
   ]
  },
  {
   "cell_type": "code",
   "execution_count": null,
   "metadata": {},
   "outputs": [],
   "source": []
  },
  {
   "cell_type": "code",
   "execution_count": null,
   "metadata": {},
   "outputs": [],
   "source": []
  }
 ],
 "metadata": {
  "kernelspec": {
   "display_name": "Python 3",
   "language": "python",
   "name": "python3"
  },
  "language_info": {
   "codemirror_mode": {
    "name": "ipython",
    "version": 3
   },
   "file_extension": ".py",
   "mimetype": "text/x-python",
   "name": "python",
   "nbconvert_exporter": "python",
   "pygments_lexer": "ipython3",
   "version": "3.7.3"
  }
 },
 "nbformat": 4,
 "nbformat_minor": 2
}
