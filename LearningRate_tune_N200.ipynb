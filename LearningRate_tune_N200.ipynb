{
 "cells": [
  {
   "cell_type": "code",
   "execution_count": 2,
   "metadata": {},
   "outputs": [],
   "source": [
    "# Code in file autograd/two_layer_net_autograd.py\n",
    "import torch\n",
    "\n",
    "device = torch.device('cpu')\n",
    "# device = torch.device('cuda') # Uncomment this to run on GPU"
   ]
  },
  {
   "cell_type": "code",
   "execution_count": 3,
   "metadata": {},
   "outputs": [],
   "source": [
    "import numpy as np"
   ]
  },
  {
   "cell_type": "code",
   "execution_count": 44,
   "metadata": {},
   "outputs": [],
   "source": [
    "R_exps = [1.0, 0.9, 0.8, 0.7, 0.6, 0.5, 0.4, 0.3, 0.2, 0.1]\n",
    "N = 200 # input dimension and number of training behaviors\n",
    "M = N # output dimension"
   ]
  },
  {
   "cell_type": "code",
   "execution_count": 45,
   "metadata": {},
   "outputs": [],
   "source": [
    "# Define nonlinear activation function\n",
    "def f(x): # nonlinear conversion function to binary\n",
    "    return x.sigmoid()#tanh().add(1).div(2)"
   ]
  },
  {
   "cell_type": "code",
   "execution_count": 5,
   "metadata": {},
   "outputs": [],
   "source": [
    "# Create input data\n",
    "x = torch.tensor(np.genfromtxt(\"x_{}.csv\".format(N), delimiter=','), device=device).float()\n",
    "y = torch.tensor(np.genfromtxt(\"y_{}.csv\".format(N), delimiter=','), device=device).float()"
   ]
  },
  {
   "cell_type": "code",
   "execution_count": 1,
   "metadata": {},
   "outputs": [],
   "source": [
    "# determine lrs_N200 "
   ]
  },
  {
   "cell_type": "code",
   "execution_count": 181,
   "metadata": {},
   "outputs": [],
   "source": [
    "loss_all_lr = []\n",
    "for learning_rate in [100, 300, 500]: # try different learning rates for different R\n",
    "    R = int(N**0.7) # \n",
    "    # Create random Tensors for weights; setting requires_grad=True means that we\n",
    "    # want to compute gradients for these Tensors during the backward pass.\n",
    "    w1 = torch.randn(N, R, device=device, requires_grad=True).float()\n",
    "    w2 = torch.randn(R, M, device=device, requires_grad=True).float()\n",
    "\n",
    "    ## initialize tensor variables for bias terms \n",
    "    b1 = torch.randn(1, R, device=device, requires_grad=True).float()# bias for hidden layer\n",
    "    b2 = torch.randn(1, M, device=device, requires_grad=True).float() # bias for output layer\n",
    "\n",
    "    t = 0\n",
    "    loss = 1000\n",
    "    loss_all = []\n",
    "    while t < 40000:\n",
    "      # Forward pass: compute predicted y using operations on Tensors. Since w1 and\n",
    "      # w2 have requires_grad=True, operations involving these Tensors will cause\n",
    "      # PyTorch to build a computational graph, allowing automatic computation of\n",
    "      # gradients. Since we are no longer implementing the backward pass by hand we\n",
    "      # don't need to keep references to intermediate values.\n",
    "      y_pred = f(f(x.mm(w1).add(b1)).mm(w2).add(b2))\n",
    "\n",
    "      # Compute and print loss. Loss is a Tensor of shape (), and loss.item()\n",
    "      # is a Python number giving its value.\n",
    "      loss = (y_pred - y).pow(2).mean()\n",
    "      loss_all.append(loss.item())\n",
    "      # print(t, loss.item())\n",
    "\n",
    "      # Use autograd to compute the backward pass. This call will compute the\n",
    "      # gradient of loss with respect to all Tensors with requires_grad=True.\n",
    "      # After this call w1.grad and w2.grad will be Tensors holding the gradient\n",
    "      # of the loss with respect to w1 and w2 respectively.\n",
    "      loss.backward()\n",
    "\n",
    "      # Update weights using gradient descent. For this step we just want to mutate\n",
    "      # the values of w1 and w2 in-place; we don't want to build up a computational\n",
    "      # graph for the update steps, so we use the torch.no_grad() context manager\n",
    "      # to prevent PyTorch from building a computational graph for the updates\n",
    "      with torch.no_grad():\n",
    "        w1 -= learning_rate * w1.grad\n",
    "        w2 -= learning_rate * w2.grad\n",
    "        b1 -= learning_rate * b1.grad\n",
    "        b2 -= learning_rate * b2.grad\n",
    "\n",
    "        # Manually zero the gradients after running the backward pass\n",
    "        w1.grad.zero_()\n",
    "        w2.grad.zero_()\n",
    "        b1.grad.zero_()\n",
    "        b2.grad.zero_()\n",
    "        t = t + 1\n",
    "    loss_all_lr.append(loss_all)"
   ]
  },
  {
   "cell_type": "code",
   "execution_count": null,
   "metadata": {},
   "outputs": [],
   "source": [
    "import matplotlib\n",
    "from matplotlib import pyplot as plt\n",
    "plt.figure(figsize=(10,7))\n",
    "for i in range(len(loss_all_lr)):\n",
    "    plt.plot(np.log(np.array(loss_all_lr[i])))\n",
    "plt.legend()\n",
    "plt.xlabel('Iteration')\n",
    "plt.ylabel('Loss')\n",
    "#plt.ylim([0, 0.5])\n",
    "plt.show()"
   ]
  }
 ],
 "metadata": {
  "kernelspec": {
   "display_name": "Python 3",
   "language": "python",
   "name": "python3"
  },
  "language_info": {
   "codemirror_mode": {
    "name": "ipython",
    "version": 3
   },
   "file_extension": ".py",
   "mimetype": "text/x-python",
   "name": "python",
   "nbconvert_exporter": "python",
   "pygments_lexer": "ipython3",
   "version": "3.6.7"
  }
 },
 "nbformat": 4,
 "nbformat_minor": 2
}
