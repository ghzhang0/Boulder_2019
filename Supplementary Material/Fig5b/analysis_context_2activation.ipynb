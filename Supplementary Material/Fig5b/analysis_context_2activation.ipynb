{
 "cells": [
  {
   "cell_type": "code",
   "execution_count": 3,
   "metadata": {
    "executionInfo": {
     "elapsed": 2483,
     "status": "ok",
     "timestamp": 1603910755969,
     "user": {
      "displayName": "Anjalika Nande",
      "photoUrl": "",
      "userId": "01630779456623393519"
     },
     "user_tz": 240
    },
    "id": "wWcv0YNivw9k"
   },
   "outputs": [],
   "source": [
    "import torch\n",
    "import copy\n",
    "import umap\n",
    "import argparse\n",
    "import numpy as np\n",
    "from numpy import genfromtxt\n",
    "import difflib\n",
    "import matplotlib\n",
    "import networkx as nx\n",
    "import community\n",
    "from matplotlib import colors\n",
    "from matplotlib import pyplot as plt\n",
    "from itertools import combinations\n",
    "%matplotlib inline"
   ]
  },
  {
   "cell_type": "code",
   "execution_count": 1,
   "metadata": {
    "colab": {
     "base_uri": "https://localhost:8080/"
    },
    "executionInfo": {
     "elapsed": 1378,
     "status": "ok",
     "timestamp": 1603910747368,
     "user": {
      "displayName": "Anjalika Nande",
      "photoUrl": "",
      "userId": "01630779456623393519"
     },
     "user_tz": 240
    },
    "id": "P1ykmJ9AwAur",
    "outputId": "65275cf2-21d8-4360-f29f-8f16912282df"
   },
   "outputs": [
    {
     "name": "stdout",
     "output_type": "stream",
     "text": [
      "Mounted at /gdrive\n",
      "/gdrive/My Drive/Colab Notebooks\n"
     ]
    }
   ],
   "source": [
    "from google.colab import drive\n",
    "drive.mount('/gdrive')\n",
    "%cd /gdrive/My Drive/Colab Notebooks"
   ]
  },
  {
   "cell_type": "code",
   "execution_count": 4,
   "metadata": {
    "executionInfo": {
     "elapsed": 528,
     "status": "ok",
     "timestamp": 1603910755970,
     "user": {
      "displayName": "Anjalika Nande",
      "photoUrl": "",
      "userId": "01630779456623393519"
     },
     "user_tz": 240
    },
    "id": "QcqLVRrrvw9o"
   },
   "outputs": [],
   "source": [
    "SMALL_SIZE = 10\n",
    "MEDIUM_SIZE = 15\n",
    "BIGGER_SIZE = 20\n",
    "\n",
    "plt.rc('lines',linewidth=2)\n",
    "plt.rc('font', size=BIGGER_SIZE)          # controls default text sizes\n",
    "plt.rc('axes', labelsize=MEDIUM_SIZE)    # fontsize of the x and y labels\n",
    "plt.rc('xtick', labelsize=MEDIUM_SIZE)    # fontsize of the tick labels\n",
    "plt.rc('ytick', labelsize=MEDIUM_SIZE)    # fontsize of the tick labels\n",
    "plt.rc('legend', fontsize=MEDIUM_SIZE, frameon=False)    # legend fontsize\n",
    "plt.rcParams.update({'axes.spines.top': False, 'axes.spines.right': False})\n",
    "plt.rcParams['pdf.fonttype'] = 42"
   ]
  },
  {
   "cell_type": "markdown",
   "metadata": {
    "id": "oZxSo-80vw9r"
   },
   "source": [
    "### Specify parameters"
   ]
  },
  {
   "cell_type": "code",
   "execution_count": 5,
   "metadata": {
    "executionInfo": {
     "elapsed": 293,
     "status": "ok",
     "timestamp": 1603910759075,
     "user": {
      "displayName": "Anjalika Nande",
      "photoUrl": "",
      "userId": "01630779456623393519"
     },
     "user_tz": 240
    },
    "id": "g7RNmKErvw9r"
   },
   "outputs": [],
   "source": [
    "device = torch.device('cpu')\n",
    "N = 100 # No. of input nodes i.e. behaviours\n",
    "#R = 20 # No. of descending neurons i.e. bottleneck layer\n",
    "M = N # No. of motor units, output\n",
    "n = 10 # No. of responding output nodes\n",
    "fn = n/M # Fraction of output nodes that are responding\n",
    "response_threshold = 0.5 # Whether an input corresponds to activating the node or not\n",
    "loss_series = []"
   ]
  },
  {
   "cell_type": "code",
   "execution_count": 6,
   "metadata": {
    "executionInfo": {
     "elapsed": 256,
     "status": "ok",
     "timestamp": 1603910759305,
     "user": {
      "displayName": "Anjalika Nande",
      "photoUrl": "",
      "userId": "01630779456623393519"
     },
     "user_tz": 240
    },
    "id": "NAS5JNI9vw9t"
   },
   "outputs": [],
   "source": [
    "R_list = [5, 7, 8, 10, 12, 14, 16, 20, 25, 30, 40, 50, 60, 80, 100]\n",
    "noise = [0, 1, 3, 5, 8]"
   ]
  },
  {
   "cell_type": "markdown",
   "metadata": {
    "id": "24oERRzIvw9w"
   },
   "source": [
    "* noise 8 modularity = 0.18\n",
    "* 5 = 0.24\n",
    "* 3 = 0.46\n",
    "* 1 = 0.68\n",
    "* 0 = 0.80"
   ]
  },
  {
   "cell_type": "markdown",
   "metadata": {
    "id": "YZKOrq4Qvw9w"
   },
   "source": [
    "### Generate input matrix (identity)"
   ]
  },
  {
   "cell_type": "code",
   "execution_count": 7,
   "metadata": {
    "executionInfo": {
     "elapsed": 296,
     "status": "ok",
     "timestamp": 1603910762997,
     "user": {
      "displayName": "Anjalika Nande",
      "photoUrl": "",
      "userId": "01630779456623393519"
     },
     "user_tz": 240
    },
    "id": "pQjVpr90vw9w"
   },
   "outputs": [],
   "source": [
    "x_in = [[1 if i==j else 0 for i in range(N)] for j in range(N)]\n",
    "x = torch.tensor(x_in).float()"
   ]
  },
  {
   "cell_type": "markdown",
   "metadata": {
    "id": "HwCfWZiVvw9y"
   },
   "source": [
    "### Defining useful functions"
   ]
  },
  {
   "cell_type": "code",
   "execution_count": 8,
   "metadata": {
    "executionInfo": {
     "elapsed": 339,
     "status": "ok",
     "timestamp": 1603910764520,
     "user": {
      "displayName": "Anjalika Nande",
      "photoUrl": "",
      "userId": "01630779456623393519"
     },
     "user_tz": 240
    },
    "id": "UNwXCrO6vw9z"
   },
   "outputs": [],
   "source": [
    "# Activation function\n",
    "def actfn(x):\n",
    "    y = x.sigmoid()\n",
    "    return y"
   ]
  },
  {
   "cell_type": "code",
   "execution_count": 9,
   "metadata": {
    "executionInfo": {
     "elapsed": 205,
     "status": "ok",
     "timestamp": 1603910764678,
     "user": {
      "displayName": "Anjalika Nande",
      "photoUrl": "",
      "userId": "01630779456623393519"
     },
     "user_tz": 240
    },
    "id": "P46jHeHmvw91"
   },
   "outputs": [],
   "source": [
    "def load_params(i, j, k):\n",
    "    device = 'cpu'\n",
    "    # i= {0} = R, hidden_layer, j = {1} = noise, k = {2} = disorder sample\n",
    "    b1 =  torch.tensor(np.loadtxt('/gdrive/My Drive/Colab Notebooks/parameters_boulder_270420/bias1_5.0_{}_10_{}_{}.dat'.format(i, j, k)), dtype=torch.float32, device=device)\n",
    "    b2 =  torch.tensor(np.loadtxt('/gdrive/My Drive/Colab Notebooks/parameters_boulder_270420/bias2_5.0_{}_10_{}_{}.dat'.format(i, j, k)), dtype=torch.float32, device=device)\n",
    "    w1 =  torch.tensor(np.loadtxt('/gdrive/My Drive/Colab Notebooks/parameters_boulder_270420/weights1_5.0_{}_10_{}_{}.dat'.format(i, j, k)), dtype=torch.float32, device=device)\n",
    "    w2 =  torch.tensor(np.loadtxt('/gdrive/My Drive/Colab Notebooks/parameters_boulder_270420/weights2_5.0_{}_10_{}_{}.dat'.format(i, j, k)), dtype=torch.float32, device=device)\n",
    "\n",
    "    return b1, b2, w1, w2"
   ]
  },
  {
   "cell_type": "code",
   "execution_count": 10,
   "metadata": {
    "executionInfo": {
     "elapsed": 290,
     "status": "ok",
     "timestamp": 1603910765942,
     "user": {
      "displayName": "Anjalika Nande",
      "photoUrl": "",
      "userId": "01630779456623393519"
     },
     "user_tz": 240
    },
    "id": "fC5PoYoDvw94"
   },
   "outputs": [],
   "source": [
    "def prediction(x, b1, b2, w1, w2):\n",
    "    y_pred = actfn(actfn(x.mm(w1)+b1).mm(w2)+b2)\n",
    "    y_pred_binary = np.abs(np.round(y_pred.data.numpy()))\n",
    "    \n",
    "    return y_pred_binary"
   ]
  },
  {
   "cell_type": "markdown",
   "metadata": {
    "id": "tfEpnKvCvw96"
   },
   "source": [
    "### Context dependency"
   ]
  },
  {
   "cell_type": "code",
   "execution_count": 11,
   "metadata": {
    "executionInfo": {
     "elapsed": 462,
     "status": "ok",
     "timestamp": 1603910767567,
     "user": {
      "displayName": "Anjalika Nande",
      "photoUrl": "",
      "userId": "01630779456623393519"
     },
     "user_tz": 240
    },
    "id": "wR020esXvw96"
   },
   "outputs": [],
   "source": [
    "# Adding an activated unit\n",
    "activated_units = 2\n",
    "x_act = torch.zeros((N,N+activated_units))\n",
    "for i in range(len(x)):\n",
    "    x_act[i] = torch.cat((x[i],torch.ones(activated_units,dtype=torch.float32)))"
   ]
  },
  {
   "cell_type": "code",
   "execution_count": 12,
   "metadata": {
    "executionInfo": {
     "elapsed": 309,
     "status": "ok",
     "timestamp": 1603910768507,
     "user": {
      "displayName": "Anjalika Nande",
      "photoUrl": "",
      "userId": "01630779456623393519"
     },
     "user_tz": 240
    },
    "id": "djtPpnqsvw98"
   },
   "outputs": [],
   "source": [
    "def affect(R, N, activated_units, b1, b2, w1, w2, y_pred_binary):\n",
    "\n",
    "    motor_units = [[] for i in range(len(y_pred_binary))] # Which hidden neurons affect each motor unit\n",
    "    MI = []\n",
    "    stereotypy = []\n",
    "    all_comb = list(combinations(np.arange(0,R,1), 2))\n",
    "    hidden_affected = np.zeros(len(all_comb)) # No. of behaviours affected by each pair of hidden neurons\n",
    "    #hidden_affected = np.zeros(R-1)\n",
    "    \n",
    "    for i in range(len(hidden_affected)):\n",
    "        activated_hidden = torch.zeros(R)\n",
    "        indx1, indx2 = all_comb[i]\n",
    "        activated_hidden[indx1] = 1000\n",
    "        activated_hidden[indx2] = 1000\n",
    "        \n",
    "        w_act = torch.zeros((N+activated_units, R))\n",
    "        for j in range(len(w_act)):\n",
    "            if j < N:\n",
    "                w_act[j] = w1[j]\n",
    "            else:\n",
    "                w_act[j] = activated_hidden\n",
    "            \n",
    "        # Modified predictions of the NN\n",
    "        y_pred_2 = actfn(actfn(x_act.mm(w_act)+b1).mm(w2)+b2)\n",
    "        y_pred_2 = y_pred_2.detach().numpy()\n",
    "        y_pred_2 = np.abs(np.round(y_pred_2))  # Threshold = 0.5\n",
    "        comparison_array = (y_pred_2)*2 + y_pred_binary\n",
    "    \n",
    "        #for k in range(len(comparison_array)):\n",
    "            #for indx, comp in enumerate(comparison_array[k]):\n",
    "                #if comp == 1 or comp == 2:\n",
    "                    #motor_units[indx].append(i+1)\n",
    "                    \n",
    "        # Number of behaviours each pair of hidden neuron affects\n",
    "        for k in range(len(comparison_array)):\n",
    "            for indx, comp in enumerate(comparison_array[k]):\n",
    "                if comp == 1 or comp == 2:\n",
    "                    hidden_affected[i] += 1\n",
    "                    break\n",
    "                    \n",
    "        # Calculate the mutual information\n",
    "        stim_status = np.zeros(N)\n",
    "        \n",
    "        for k in range(N):\n",
    "            if np.array_equal(y_pred_2[k], y_pred_binary[k]):\n",
    "                #s = difflib.SequenceMatcher(None, y_pred_2[i],y_pred_binary[i])\n",
    "                #if s.ratio() > 0.99:\n",
    "                stim_status[k] += 1\n",
    "            else:\n",
    "                modified_indices = [j for j in range(N) if j!=k]\n",
    "                for m in modified_indices:\n",
    "                    #s = difflib.SequenceMatcher(None, y_pred_2[i],y_pred_binary[k])\n",
    "                    #if s.ratio() > 0.99:\n",
    "                    if np.array_equal(y_pred_2[k], y_pred_binary[m]):\n",
    "                        stim_status[m] += 1\n",
    "                        \n",
    "        non_zero = np.nonzero(stim_status)\n",
    "        final_stim_status = stim_status[non_zero]\n",
    "        stereotyped_inputs = np.where(final_stim_status > 1)[0]\n",
    "        stereotypy.append(sum(final_stim_status[stereotyped_inputs]))\n",
    "        MI.append(sum((1/N)*np.log2(N/final_stim_status)))\n",
    "           \n",
    "    n = (sum(hidden_affected)/len(hidden_affected))\n",
    "    avg_unaffected_behaviours = N-n\n",
    "    MI_avg = (sum(MI)/len(hidden_affected))\n",
    "    stereotypy_avg = (sum(stereotypy)/len(hidden_affected))\n",
    "    \n",
    "    return avg_unaffected_behaviours, MI_avg, stereotypy_avg, hidden_affected"
   ]
  },
  {
   "cell_type": "code",
   "execution_count": 13,
   "metadata": {
    "executionInfo": {
     "elapsed": 287,
     "status": "ok",
     "timestamp": 1603910770275,
     "user": {
      "displayName": "Anjalika Nande",
      "photoUrl": "",
      "userId": "01630779456623393519"
     },
     "user_tz": 240
    },
    "id": "_3c-PfLQvw9-"
   },
   "outputs": [],
   "source": [
    "def affected_mean(R_list, affected_bhv_list):\n",
    "\n",
    "    bhv_mean = np.zeros(len(R_list))\n",
    "    bhv_std = np.zeros(len(R_list))\n",
    "\n",
    "    for i in range(len(R_list)):\n",
    "        bhv_mean[i] = np.mean(np.array(affected_bhv_list[i]))\n",
    "        bhv_std[i] = np.std(np.array(affected_bhv_list[i]))\n",
    "    return bhv_mean, bhv_std"
   ]
  },
  {
   "cell_type": "markdown",
   "metadata": {},
   "source": [
    "# Figure 5b"
   ]
  },
  {
   "cell_type": "code",
   "execution_count": 15,
   "metadata": {
    "colab": {
     "base_uri": "https://localhost:8080/",
     "height": 516
    },
    "executionInfo": {
     "elapsed": 14439627,
     "status": "ok",
     "timestamp": 1603925269285,
     "user": {
      "displayName": "Anjalika Nande",
      "photoUrl": "",
      "userId": "01630779456623393519"
     },
     "user_tz": 240
    },
    "id": "13k4vp6dvw-A",
    "outputId": "5a5b335e-4ffb-471a-a377-534191067d11"
   },
   "outputs": [
    {
     "data": {
      "image/png": "[encoded data removed]",
      "text/plain": [
       "<Figure size 720x576 with 1 Axes>"
      ]
     },
     "metadata": {
      "needs_background": "light",
      "tags": []
     },
     "output_type": "display_data"
    }
   ],
   "source": [
    "modularity = [0.80, 0.68, 0.46, 0.24, 0.18]\n",
    "\n",
    "plt.figure(figsize=(10,8))\n",
    "\n",
    "for j in range(len(noise)):\n",
    "    n = noise[j]\n",
    "    unaffected_bhv_list = []\n",
    "\n",
    "    for i in range(len(R_list)):\n",
    "        R = R_list[i]\n",
    "        tmp = []\n",
    "        \n",
    "        for index in range(1,6):\n",
    "            b1, b2, w1, w2 = load_params (float(R), n, index)\n",
    "            y_pred_binary = prediction (x, b1, b2, w1.T, w2.T)\n",
    "            avg_unaffected_behaviours, _, _, _= affect (R, N, activated_units, b1, b2, w1.T, w2.T, y_pred_binary)\n",
    "            tmp.append(avg_unaffected_behaviours)\n",
    "        unaffected_bhv_list.append(tmp)\n",
    "        \n",
    "    bhv_mean, bhv_std = affected_mean(R_list, unaffected_bhv_list)\n",
    "    \n",
    "    plt.errorbar(np.array(R_list), bhv_mean, bhv_std, label = 'Modularity = {}'.format(modularity[j]))\n",
    "\n",
    "plt.xlabel('Size of hidden layer')\n",
    "plt.ylabel('Average number of behaviours \\n unaffected per pair of hidden neuron')\n",
    "plt.semilogx()\n",
    "plt.legend()\n",
    "plt.ylim(0,100)\n",
    "plt.savefig('beh_unaffect_2act.pdf', bbox_inches='tight')"
   ]
  }
 ],
 "metadata": {
  "colab": {
   "collapsed_sections": [],
   "name": "example_analysis_context_2activation.ipynb",
   "provenance": [],
   "toc_visible": true
  },
  "kernelspec": {
   "display_name": "Python 3",
   "language": "python",
   "name": "python3"
  },
  "language_info": {
   "codemirror_mode": {
    "name": "ipython",
    "version": 3
   },
   "file_extension": ".py",
   "mimetype": "text/x-python",
   "name": "python",
   "nbconvert_exporter": "python",
   "pygments_lexer": "ipython3",
   "version": "3.7.6"
  }
 },
 "nbformat": 4,
 "nbformat_minor": 1
}
