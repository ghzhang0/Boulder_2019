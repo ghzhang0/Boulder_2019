{
 "cells": [
  {
   "cell_type": "code",
   "execution_count": 1,
   "metadata": {
    "executionInfo": {
     "elapsed": 7278,
     "status": "ok",
     "timestamp": 1611586583503,
     "user": {
      "displayName": "Anjalika Nande",
      "photoUrl": "",
      "userId": "01630779456623393519"
     },
     "user_tz": 300
    },
    "id": "wWcv0YNivw9k"
   },
   "outputs": [],
   "source": [
    "import torch\n",
    "import copy\n",
    "import umap\n",
    "import argparse\n",
    "import numpy as np\n",
    "from numpy import genfromtxt\n",
    "import difflib\n",
    "import matplotlib\n",
    "import networkx as nx\n",
    "import community\n",
    "from matplotlib.lines import Line2D\n",
    "from matplotlib import colors\n",
    "from matplotlib import pyplot as plt\n",
    "from itertools import combinations\n",
    "%matplotlib inline"
   ]
  },
  {
   "cell_type": "code",
   "execution_count": 2,
   "metadata": {
    "colab": {
     "base_uri": "https://localhost:8080/"
    },
    "executionInfo": {
     "elapsed": 26437,
     "status": "ok",
     "timestamp": 1611586602674,
     "user": {
      "displayName": "Anjalika Nande",
      "photoUrl": "",
      "userId": "01630779456623393519"
     },
     "user_tz": 300
    },
    "id": "P1ykmJ9AwAur",
    "outputId": "36d8d983-ffba-4ce2-e4e8-5cf135e0fafe"
   },
   "outputs": [
    {
     "name": "stdout",
     "output_type": "stream",
     "text": [
      "Mounted at /gdrive\n",
      "/gdrive/My Drive/Colab Notebooks\n"
     ]
    }
   ],
   "source": [
    "## The path where files are is: /gdrive/My Drive/Colab Notebooks/\n",
    "\n",
    "#from google.colab import drive\n",
    "#drive.mount('/gdrive')\n",
    "#%cd /gdrive/My Drive/Colab Notebooks"
   ]
  },
  {
   "cell_type": "code",
   "execution_count": 3,
   "metadata": {
    "executionInfo": {
     "elapsed": 534,
     "status": "ok",
     "timestamp": 1611586606840,
     "user": {
      "displayName": "Anjalika Nande",
      "photoUrl": "",
      "userId": "01630779456623393519"
     },
     "user_tz": 300
    },
    "id": "QcqLVRrrvw9o"
   },
   "outputs": [],
   "source": [
    "SMALL_SIZE = 10\n",
    "MEDIUM_SIZE = 15\n",
    "BIGGER_SIZE = 20\n",
    "\n",
    "plt.rc('lines',linewidth=2)\n",
    "plt.rc('font', size=BIGGER_SIZE)          # controls default text sizes\n",
    "plt.rc('axes', labelsize=MEDIUM_SIZE)    # fontsize of the x and y labels\n",
    "plt.rc('xtick', labelsize=MEDIUM_SIZE)    # fontsize of the tick labels\n",
    "plt.rc('ytick', labelsize=MEDIUM_SIZE)    # fontsize of the tick labels\n",
    "plt.rc('legend', fontsize=MEDIUM_SIZE, frameon=False)    # legend fontsize\n",
    "plt.rcParams.update({'axes.spines.top': False, 'axes.spines.right': False})\n",
    "plt.rcParams['pdf.fonttype'] = 42"
   ]
  },
  {
   "cell_type": "code",
   "execution_count": 4,
   "metadata": {
    "executionInfo": {
     "elapsed": 300,
     "status": "ok",
     "timestamp": 1611586608482,
     "user": {
      "displayName": "Anjalika Nande",
      "photoUrl": "",
      "userId": "01630779456623393519"
     },
     "user_tz": 300
    },
    "id": "PQEGSEcVF84Q"
   },
   "outputs": [],
   "source": [
    "greens = plt.get_cmap('Greens')\n",
    "blues = plt.get_cmap('Blues')"
   ]
  },
  {
   "cell_type": "markdown",
   "metadata": {
    "id": "oZxSo-80vw9r"
   },
   "source": [
    "### Specify parameters"
   ]
  },
  {
   "cell_type": "code",
   "execution_count": 5,
   "metadata": {
    "executionInfo": {
     "elapsed": 307,
     "status": "ok",
     "timestamp": 1611586612867,
     "user": {
      "displayName": "Anjalika Nande",
      "photoUrl": "",
      "userId": "01630779456623393519"
     },
     "user_tz": 300
    },
    "id": "g7RNmKErvw9r"
   },
   "outputs": [],
   "source": [
    "device = torch.device('cpu')\n",
    "noise = [0,3]\n",
    "sample = [0,1,2,3,4]"
   ]
  },
  {
   "cell_type": "code",
   "execution_count": 6,
   "metadata": {
    "executionInfo": {
     "elapsed": 234,
     "status": "ok",
     "timestamp": 1611586613084,
     "user": {
      "displayName": "Anjalika Nande",
      "photoUrl": "",
      "userId": "01630779456623393519"
     },
     "user_tz": 300
    },
    "id": "NAS5JNI9vw9t"
   },
   "outputs": [],
   "source": [
    "RM_list = np.array([0.05, 0.1, 0.15, 0.25, 0.5, 0.75, 1])\n",
    "M_list = np.array([50, 200, 300])\n",
    "color_list = np.array([blues,greens])\n",
    "color_gradient = np.array([100,175,400])"
   ]
  },
  {
   "cell_type": "markdown",
   "metadata": {
    "id": "HwCfWZiVvw9y"
   },
   "source": [
    "### Defining useful functions"
   ]
  },
  {
   "cell_type": "code",
   "execution_count": 7,
   "metadata": {
    "executionInfo": {
     "elapsed": 408,
     "status": "ok",
     "timestamp": 1611586616701,
     "user": {
      "displayName": "Anjalika Nande",
      "photoUrl": "",
      "userId": "01630779456623393519"
     },
     "user_tz": 300
    },
    "id": "P46jHeHmvw91"
   },
   "outputs": [],
   "source": [
    "def load_beh(i, j, k, l):\n",
    "    device = 'cpu'\n",
    "    # i= {0} = R, hidden_layer, j = {1} = M, k = {2} = noise, l = {3} = sample \n",
    "    n_beh =  torch.tensor(np.loadtxt('varying_systemsize/behavior_5.0_{}_{}_{}_{}.dat'.format(i, j, k, l)), dtype=torch.float32, device=device)\n",
    "\n",
    "    return n_beh"
   ]
  },
  {
   "cell_type": "code",
   "execution_count": 8,
   "metadata": {
    "executionInfo": {
     "elapsed": 263,
     "status": "ok",
     "timestamp": 1611586616871,
     "user": {
      "displayName": "Anjalika Nande",
      "photoUrl": "",
      "userId": "01630779456623393519"
     },
     "user_tz": 300
    },
    "id": "EIwOKiYRhnTB"
   },
   "outputs": [],
   "source": [
    "def learnt_mean_std(learnt_bhv_list):\n",
    "  \n",
    "    bhv_mean = np.mean(np.array(learnt_bhv_list))\n",
    "    bhv_std = np.std(np.array(learnt_bhv_list))\n",
    "    return bhv_mean, bhv_std"
   ]
  },
  {
   "cell_type": "markdown",
   "metadata": {
    "id": "FWfgW-liqx10"
   },
   "source": [
    "# Figure 5c - Number of behaviors learnt"
   ]
  },
  {
   "cell_type": "code",
   "execution_count": 9,
   "metadata": {
    "colab": {
     "base_uri": "https://localhost:8080/",
     "height": 507
    },
    "executionInfo": {
     "elapsed": 38675,
     "status": "ok",
     "timestamp": 1611586660464,
     "user": {
      "displayName": "Anjalika Nande",
      "photoUrl": "",
      "userId": "01630779456623393519"
     },
     "user_tz": 300
    },
    "id": "NJKTfXXvqxAZ",
    "outputId": "58fec2d6-ba9b-45a3-e285-847ea55f269e"
   },
   "outputs": [
    {
     "data": {
      "image/png": "[encoded data removed]",
      "text/plain": [
       "<Figure size 720x576 with 1 Axes>"
      ]
     },
     "metadata": {
      "needs_background": "light",
      "tags": []
     },
     "output_type": "display_data"
    }
   ],
   "source": [
    "plt.figure(figsize=(10,8))\n",
    "for indx_noise, n_noise in enumerate(noise):\n",
    "    for indx, m in enumerate(M_list):\n",
    "        n_beh_mean = []\n",
    "        n_beh_std = []\n",
    "        for r in np.floor(m*RM_list):\n",
    "            n_beh_sample = []\n",
    "            for sample_no in sample:\n",
    "                n_beh_sample.append(load_beh(r,int(m/10),n_noise,sample_no))\n",
    "            bhv_mean, bhv_std = learnt_mean_std(n_beh_sample)\n",
    "            n_beh_mean.append(bhv_mean/m)\n",
    "            n_beh_std.append(bhv_std/m)\n",
    "        plt.errorbar(RM_list,n_beh_mean, n_beh_std, label='M=%i'%m, color=color_list[indx_noise](color_gradient[indx]))\n",
    "\n",
    "plt.xlabel('R/M')\n",
    "plt.ylabel('Fraction of behaviors learnt')\n",
    "plt.ylim(0,1.02)\n",
    "plt.xlim(0,1.02)\n",
    "#custom_lines = [Line2D([0], [0], color=blues(200), lw=4),\n",
    "                #Line2D([0], [0], color=greens(200), lw=4)]\n",
    "#plt.legend(custom_lines, ['Modularity=0.8', 'Modularity=0.46'])\n",
    "plt.legend()\n",
    "plt.savefig('varying_systemsize.pdf', bbox_inches='tight')"
   ]
  }
 ],
 "metadata": {
  "colab": {
   "collapsed_sections": [],
   "name": "example_systemsize.ipynb",
   "provenance": [],
   "toc_visible": true
  },
  "kernelspec": {
   "display_name": "Python 3",
   "language": "python",
   "name": "python3"
  },
  "language_info": {
   "codemirror_mode": {
    "name": "ipython",
    "version": 3
   },
   "file_extension": ".py",
   "mimetype": "text/x-python",
   "name": "python",
   "nbconvert_exporter": "python",
   "pygments_lexer": "ipython3",
   "version": "3.7.6"
  }
 },
 "nbformat": 4,
 "nbformat_minor": 1
}
