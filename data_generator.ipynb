{
 "cells": [
  {
   "cell_type": "code",
   "execution_count": 1,
   "metadata": {},
   "outputs": [],
   "source": [
    "import torch\n",
    "import copy\n",
    "import argparse\n",
    "import numpy as np\n",
    "from numpy import genfromtxt\n",
    "import difflib\n",
    "import matplotlib\n",
    "import seaborn as sns; sns.set()\n",
    "from matplotlib import colors\n",
    "from matplotlib import pyplot as plt\n",
    "%matplotlib notebook"
   ]
  },
  {
   "cell_type": "markdown",
   "metadata": {},
   "source": [
    "### Specify parameters "
   ]
  },
  {
   "cell_type": "code",
   "execution_count": 2,
   "metadata": {},
   "outputs": [],
   "source": [
    "N = 50 # No. of input nodes i.e. behaviours\n",
    "R = 50 # No. of descending neurons i.e. bottleneck layer\n",
    "M = N # No. of motor units, output\n",
    "n = 5 # No. of responding output nodes\n",
    "fn = n/M # Fraction of output nodes that are responding\n",
    "response_threshold = 0.5 # Whether an input corresponds to activating the node or not\n",
    "loss_series = []"
   ]
  },
  {
   "cell_type": "markdown",
   "metadata": {},
   "source": [
    "### Generate input matrix with 1 on diagonal"
   ]
  },
  {
   "cell_type": "code",
   "execution_count": 3,
   "metadata": {},
   "outputs": [],
   "source": [
    "x_in = [[1 if i==j else 0 for i in range(N)] for j in range(N)]\n",
    "x = torch.tensor(x_in).float()"
   ]
  },
  {
   "cell_type": "markdown",
   "metadata": {},
   "source": [
    "### Function for modular generation "
   ]
  },
  {
   "cell_type": "code",
   "execution_count": 4,
   "metadata": {},
   "outputs": [],
   "source": [
    "def generate_out_matrix(dim, nresponding, nclust, nnoise):\n",
    "    # dim - dimensions of matrix (assuming it's square for now)\n",
    "    # nresponding - number of neurons to activate per behavior (sparcity)\n",
    "    # nclust - number of clusters\n",
    "    # nnoise - number of \"imperfect\" neurons outside of cluster\n",
    "    out=np.zeros((dim,dim))\n",
    "    length=list(range(dim))\n",
    "    for i in range(nclust):\n",
    "        set1=list(range(int(i*dim/nclust), int((i+1)*dim/nclust)))      ### inside dense cluster\n",
    "        set2=length[:int(i*dim/nclust)]+length[int((i+1)*dim/nclust):]  ### outside dense cluster\n",
    "        for j in set1:\n",
    "            out[j,np.random.choice(set1, nresponding-nnoise, replace=False)]=1\n",
    "            out[j,np.random.choice(set2, nnoise, replace=False)]=1\n",
    "    return out"
   ]
  },
  {
   "cell_type": "markdown",
   "metadata": {},
   "source": [
    "### Generate matrix and look"
   ]
  },
  {
   "cell_type": "code",
   "execution_count": 5,
   "metadata": {},
   "outputs": [
    {
     "data": {
      "image/png": "[encoded data removed]",
      "text/plain": [
       "<Figure size 432x288 with 1 Axes>"
      ]
     },
     "metadata": {
      "needs_background": "light"
     },
     "output_type": "display_data"
    }
   ],
   "source": [
    "y_out=generate_out_matrix(dim=N, nresponding=n, nclust=5, nnoise=1)\n",
    "\n",
    "cmap = colors.ListedColormap([\"white\", \"grey\"])\n",
    "bounds = [0, 0.5, 1]\n",
    "norm = colors.BoundaryNorm(bounds, cmap.N)\n",
    "fig, ax = plt.subplots()\n",
    "ax.imshow(y_out, cmap=cmap, norm=norm)\n",
    "ax.grid(False) # no gridlines\n"
   ]
  },
  {
   "cell_type": "markdown",
   "metadata": {},
   "source": [
    "### Save matrices "
   ]
  },
  {
   "cell_type": "code",
   "execution_count": 6,
   "metadata": {},
   "outputs": [],
   "source": [
    "it_ind=0\n",
    "np.savetxt('x_in_' + str(it_ind) + '_' + str(N)  + '.csv', x_in)\n",
    "np.savetxt('y_out_' + str(it_ind) + '_' + str(N)  + '.csv', y_out)"
   ]
  },
  {
   "cell_type": "code",
   "execution_count": 61,
   "metadata": {},
   "outputs": [],
   "source": []
  },
  {
   "cell_type": "code",
   "execution_count": null,
   "metadata": {},
   "outputs": [],
   "source": []
  }
 ],
 "metadata": {
  "kernelspec": {
   "display_name": "Python 3",
   "language": "python",
   "name": "python3"
  },
  "language_info": {
   "codemirror_mode": {
    "name": "ipython",
    "version": 3
   },
   "file_extension": ".py",
   "mimetype": "text/x-python",
   "name": "python",
   "nbconvert_exporter": "python",
   "pygments_lexer": "ipython3",
   "version": "3.7.3"
  }
 },
 "nbformat": 4,
 "nbformat_minor": 2
}
